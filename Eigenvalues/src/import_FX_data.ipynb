{
 "cells": [
  {
   "cell_type": "code",
   "execution_count": null,
   "id": "1f051b65-e544-41e6-be61-c550f9d9face",
   "metadata": {},
   "outputs": [],
   "source": [
    "%load_ext autoreload\n",
    "%autoreload 2"
   ]
  },
  {
   "cell_type": "code",
   "execution_count": null,
   "id": "cbf35979-0842-4215-8d63-ef0cdffc4ab6",
   "metadata": {},
   "outputs": [],
   "source": [
    "# Import data to MySQL\n",
    "\n",
    "import data_FX\n",
    "importlib.reload(data_FX)\n",
    "from data_FX import SQLconnect, SQLRepository, DataAnalysis, OptimizeDensity"
   ]
  },
  {
   "cell_type": "code",
   "execution_count": null,
   "id": "f5f8e17b-ffa1-48ec-9308-6f4d779237e4",
   "metadata": {},
   "outputs": [],
   "source": [
    "# Initiate the connection with MySQL\n",
    "\n",
    "sqlconn = SQLconnect()\n",
    "connection = sqlconn.get_sql_connection(dbname=settings.dbname)\n",
    "cursor = connection.cursor()\n",
    "repo = SQLRepository(connection=connection)"
   ]
  },
  {
   "cell_type": "code",
   "execution_count": null,
   "id": "3df797f0-c819-46a8-be11-1e562fbed60e",
   "metadata": {},
   "outputs": [],
   "source": [
    "\"\"\" Run this cell ONCE to import data to MySQL \"\"\"\n",
    "# It may take several hours to finish.\n",
    "\n",
    "folder_name: str = 'Datasets\\\\FX-1-Minute-Data'\n",
    "n_inserted = repo.import_data(data_path)\n",
    "print(f\"{n_inserted} observations recorded in MySQL\")"
   ]
  }
 ],
 "metadata": {
  "kernelspec": {
   "display_name": "Python 3 (ipykernel)",
   "language": "python",
   "name": "python3"
  },
  "language_info": {
   "codemirror_mode": {
    "name": "ipython",
    "version": 3
   },
   "file_extension": ".py",
   "mimetype": "text/x-python",
   "name": "python",
   "nbconvert_exporter": "python",
   "pygments_lexer": "ipython3",
   "version": "3.10.9"
  }
 },
 "nbformat": 4,
 "nbformat_minor": 5
}
