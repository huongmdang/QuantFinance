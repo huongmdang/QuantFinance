{
 "cells": [
  {
   "cell_type": "markdown",
   "id": "16e92f35-9289-4310-981d-59a5bd878d8e",
   "metadata": {},
   "source": [
    "New Territories, Hong Kong\n",
    "(+852)59616369\n",
    "\n",
    "huong.dang.m@gmail.com\n",
    "\n",
    "March 27th, 2024\n",
    "\n",
    "Human Resources Department\n",
    "\n",
    "Itarle Ltd.\n",
    "\n",
    "Dear Human Resources Manager,\n",
    "\n",
    "First of all, thank you for taking your time to read this cover letter. My name is Huong Dang, a Vietnamese residing in Hong Kong since 2016. I am currently looking for analyst role at a junior level, so your recruitment caught my attention. I believe to be a good fit for this position. \n",
    "\n",
    "I may consider myself as being fresh in this industry as I am on my way to switch from the financial sector. However, this decision is compatible with my strength and passion for numbers and analysis. I used to support currency traders in post-trade analysis, such as identifying products they trade most and earn profits, and break down hidden fees for them to eliminate and adjust their strategy. This is the most enjoyable task that has encouraged me to discover the data world further. \n",
    "\n",
    "Therefore, I spent several months digging into the programming language Python along with the database management system SQL, and simultaneously obtaining the \"Applied Data Science Lab\" certificate offered by WorldQuant University. This course consists of eight projects covering various subjects practiced on the spot in a virtual Python notebook. I am able to do data manipulation, compute descriptive statistics, and plot visualization. More advanced concepts relating to machine learning like linear and logistic regression or time series analysis, are also introduced throughout the course. The more knowledge I gain, the more inspired I am about what contribution data analysis can bring to decision-making. \n",
    "\n",
    "I have created my own portfolio with the aim of applying what I have learned to the application. The description is wrapped up and published on the Medium site. If you are interested, please feel free to see the details on my GitHub listing in the resume. In brief, the first project is about identifying the relationship between eigenvalues and currency pair volatility. The second one is to apply the principal component analysis to the replication strategy. Implementing these projects is a chance to reinforce my understanding and showcase my skills in the job search.\n",
    "\n",
    "Although my background seems not fit at first sight, I am finding all the way to fill the gap by taking the necessary courses together with practical projects in real data. I think that nothing is too late as long as we keep trying. You also have no doubt about my working attitude, which my manager (Ms.Thao Tru in FXCM) described me as self-learning, careful and progressive. \n",
    "\n",
    "Once again, thank you for your attention and consideration. I am looking foward to hearing from you.\n",
    "\n",
    "Here is my former manager's number for your reference. Ms. Thao Tru (+852) 5324 6720.\n",
    "\n",
    "Best regards,\n",
    "Huong DANG"
   ]
  }
 ],
 "metadata": {
  "kernelspec": {
   "display_name": "Python 3 (ipykernel)",
   "language": "python",
   "name": "python3"
  },
  "language_info": {
   "codemirror_mode": {
    "name": "ipython",
    "version": 3
   },
   "file_extension": ".py",
   "mimetype": "text/x-python",
   "name": "python",
   "nbconvert_exporter": "python",
   "pygments_lexer": "ipython3",
   "version": "3.10.9"
  }
 },
 "nbformat": 4,
 "nbformat_minor": 5
}
