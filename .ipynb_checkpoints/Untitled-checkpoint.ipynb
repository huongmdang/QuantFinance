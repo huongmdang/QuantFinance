{
 "cells": [
  {
   "cell_type": "code",
   "execution_count": 1,
   "id": "c0bc7b97-1b72-4cac-b063-5f8242af7f0c",
   "metadata": {},
   "outputs": [
    {
     "ename": "SyntaxError",
     "evalue": "invalid decimal literal (2080436756.py, line 44)",
     "output_type": "error",
     "traceback": [
      "\u001b[1;36m  Cell \u001b[1;32mIn[1], line 44\u001b[1;36m\u001b[0m\n\u001b[1;33m    - Reference article [G10 currencies - Eigenvalues approach applied Excess out-of-sample covariance] (https://medium.com/@nmdang/g10-currencies-eigenvalue-approach-applied-excess-out-of-sample-covariance-70bfafc43a2e)\u001b[0m\n\u001b[1;37m                                                                                                                                                                                                                ^\u001b[0m\n\u001b[1;31mSyntaxError\u001b[0m\u001b[1;31m:\u001b[0m invalid decimal literal\n"
     ]
    }
   ],
   "source": [
    "#### Welcome to my Quant Finance repo!\n",
    "\n",
    "The repository includes three parts:\n",
    "\n",
    "## Data wrangle\n",
    "\n",
    "# Data specification:\n",
    "\n",
    "- The dataset of more than 66 FX pairs (1 Minute price) from 2000 to 2022 in zipped files.\n",
    "\n",
    "- Data source [online](https://github.com/philipperemy/FX-1-Minute-Data/blob/master/README.md)\n",
    "\n",
    "# How to install:\n",
    "\n",
    "- Download data from the source.\n",
    "\n",
    "- Save 3 files [FXdata/src/import_FX_data.ipynb]\n",
    ", [FXdata/src/data_FX.py], [FXdata/src/config.py] to your local computer.\n",
    "\n",
    "Notes: these files must locate in the same directory with the data folder.\n",
    "\n",
    "Example: My current data path is 'Datasets/FX-1-Minute-Data/', where:\n",
    "\t\t'Datasets' is in the same directory with files above.\n",
    "\t\t'FX-1-Minute-Data' is a folder containing the FX pairs.\n",
    "\t\n",
    "- Create '.env' file includes the information 'hostname, dbname, uname and pwd' which is reused in various places.\n",
    "\t\n",
    "- Run file [FXdata/src/import_FX_data.ipynb] ONCE to import all data. It may take several hours to complete. \n",
    "\n",
    "## Project 1: G10 currencies - Eigenvalues approach applied Excess out-of-sample covariance\n",
    "\n",
    "# Description:\n",
    "\n",
    "Project 1 is going to examine the correlation between eigenvalues and the volatility of FX pairs through: \n",
    "- Analyze the correlation between G10 currencies using correlation heatmap.\n",
    "- Derive the eigenvalues applying the concept of excess out-of-sample-covariance, which is thought to be a useful metric for explaining volatility.\n",
    "- Compare empirical and theoretical eigenvalues density to find the optimal set of parameters.\n",
    "\n",
    "# How to install:\n",
    "\n",
    "- Save and run this file [FXdata/src/eigenvalues_FX.ipynb] in the same directory with the data related files.\n",
    "\n",
    "# Reference link:\n",
    "\n",
    "- Reference article [G10 currencies - Eigenvalues approach applied Excess out-of-sample covariance] (https://medium.com/@nmdang/g10-currencies-eigenvalue-approach-applied-excess-out-of-sample-covariance-70bfafc43a2e)\n",
    "\n",
    "## Project 2: PCA (Principal Component Analysis) in FX Replication\n",
    "\n",
    "# Description: \n",
    "\n",
    "Project 2 is to answer the common question in the predictive model. That is how to combine variables in the model such that it still keeps significant anticipation power but also minimizes the existing noise. \n",
    "Using the same idea in FX, the project is going to replicate AUD/USD return from the basket of 11 other pairs.\n",
    "\n",
    "- Compute PCA to extract the number of optimal components.\n",
    "- Estimate the weight of each component selected in the previous step.\n",
    "- Replicate the target return and compare with the true return.\n",
    "\n",
    "# How to install:\n",
    "\n",
    "- Save and run this file [FXdata/src/PCA_FX.ipynb] in the same directory with the data related files.\n",
    "\n",
    "# Reference link:\n",
    "\n",
    "- Reference article [FX Replication using PCA](https://medium.com/@nmdang/fx-replication-using-pca-15d3c79e2a46)\n",
    "\n",
    "# Contact:\n",
    "- Contact information: huong.dang.m@gmail.com\n"
   ]
  }
 ],
 "metadata": {
  "kernelspec": {
   "display_name": "Python 3 (ipykernel)",
   "language": "python",
   "name": "python3"
  },
  "language_info": {
   "codemirror_mode": {
    "name": "ipython",
    "version": 3
   },
   "file_extension": ".py",
   "mimetype": "text/x-python",
   "name": "python",
   "nbconvert_exporter": "python",
   "pygments_lexer": "ipython3",
   "version": "3.10.9"
  }
 },
 "nbformat": 4,
 "nbformat_minor": 5
}
