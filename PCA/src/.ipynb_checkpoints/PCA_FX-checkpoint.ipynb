{
 "cells": [
  {
   "cell_type": "markdown",
   "id": "7fa1fb33-834d-4370-8bc0-298b5eb96ce7",
   "metadata": {},
   "source": [
    "# Project 2: PCA in currency replication."
   ]
  },
  {
   "cell_type": "markdown",
   "id": "5c548335-316e-4626-a33b-6b7fcafcb892",
   "metadata": {},
   "source": [
    "## Import libraries"
   ]
  },
  {
   "cell_type": "code",
   "execution_count": 1,
   "id": "af8866bf-345b-49ba-b7b7-97f37070c49c",
   "metadata": {},
   "outputs": [],
   "source": [
    "%load_ext autoreload\n",
    "%autoreload 2"
   ]
  },
  {
   "cell_type": "code",
   "execution_count": 2,
   "id": "16848689-a3fb-4f4a-ba8d-7fe4a39d6250",
   "metadata": {},
   "outputs": [],
   "source": [
    "import pandas as pd\n",
    "import zipfile\n",
    "import pandas as pd\n",
    "import os\n",
    "import importlib\n",
    "import numpy as np\n",
    "import seaborn as sb \n",
    "import matplotlib.pyplot as plt\n",
    "import plotly.express as px\n",
    "import plotly.graph_objects as go\n",
    "from plotly.subplots import make_subplots\n",
    "from tqdm.notebook import tqdm\n",
    "import math\n",
    "import optuna\n",
    "import seaborn as sns\n",
    "\n",
    "from datetime import datetime, timedelta\n",
    "from sqlalchemy import create_engine\n",
    "from pydantic_settings import BaseSettings\n",
    "from config import settings\n",
    "from numpy import linalg as LA\n",
    "from scipy.linalg import sqrtm\n",
    "from sklearn.linear_model import LinearRegression, Ridge\n",
    "from statsmodels.graphics.tsaplots import plot_acf, plot_pacf\n",
    "from sklearn.preprocessing import StandardScaler\n",
    "from sklearn.pipeline import make_pipeline\n",
    "from sklearn.metrics import mean_squared_error\n",
    "from sklearn.decomposition import PCA\n",
    "from sklearn.model_selection import train_test_split"
   ]
  },
  {
   "cell_type": "markdown",
   "id": "81b85918-a5bc-41f5-b1d8-4e09cb75a972",
   "metadata": {},
   "source": [
    "## Data"
   ]
  },
  {
   "cell_type": "code",
   "execution_count": 3,
   "id": "16f5281c-79dc-4abe-b6ee-5d32cd4662bb",
   "metadata": {},
   "outputs": [],
   "source": [
    "import data_FX\n",
    "importlib.reload(data_FX)\n",
    "from data_FX import SQLconnect, SQLRepository, DataAnalysis, OptimizeDensity"
   ]
  },
  {
   "cell_type": "markdown",
   "id": "d0bdd355-8367-438b-8917-2bfa98ca2983",
   "metadata": {},
   "source": [
    "### Data connection"
   ]
  },
  {
   "cell_type": "code",
   "execution_count": 4,
   "id": "0db2a6af-a066-40fd-8bcc-354db2afdf31",
   "metadata": {},
   "outputs": [
    {
     "name": "stdout",
     "output_type": "stream",
     "text": [
      "connection is ready\n"
     ]
    }
   ],
   "source": [
    "# Initiate the connection with MySQL\n",
    "\n",
    "sqlconn = SQLconnect()\n",
    "connection = sqlconn.get_sql_connection(dbname=settings.dbname)\n",
    "cursor = connection.cursor()\n",
    "repo = SQLRepository(connection=connection)"
   ]
  },
  {
   "cell_type": "code",
   "execution_count": 5,
   "id": "0e3158c1-fcc7-44cf-8b2b-552767f5e55f",
   "metadata": {},
   "outputs": [
    {
     "name": "stdout",
     "output_type": "stream",
     "text": [
      "<class 'pandas.core.frame.DataFrame'>\n",
      "DatetimeIndex: 121 entries, 2022-12-19 10:00:00 to 2022-12-19 12:00:00\n",
      "Data columns (total 11 columns):\n",
      " #   Column  Non-Null Count  Dtype  \n",
      "---  ------  --------------  -----  \n",
      " 0   audusd  121 non-null    float64\n",
      " 1   eurusd  121 non-null    float64\n",
      " 2   gbpusd  121 non-null    float64\n",
      " 3   nzdusd  121 non-null    float64\n",
      " 4   usdcad  121 non-null    float64\n",
      " 5   usdchf  121 non-null    float64\n",
      " 6   usdjpy  121 non-null    float64\n",
      " 7   usdmxn  121 non-null    float64\n",
      " 8   usdnok  121 non-null    float64\n",
      " 9   usdsek  121 non-null    float64\n",
      " 10  usdsgd  121 non-null    float64\n",
      "dtypes: float64(11)\n",
      "memory usage: 11.3 KB\n"
     ]
    },
    {
     "data": {
      "text/html": [
       "<div>\n",
       "<style scoped>\n",
       "    .dataframe tbody tr th:only-of-type {\n",
       "        vertical-align: middle;\n",
       "    }\n",
       "\n",
       "    .dataframe tbody tr th {\n",
       "        vertical-align: top;\n",
       "    }\n",
       "\n",
       "    .dataframe thead th {\n",
       "        text-align: right;\n",
       "    }\n",
       "</style>\n",
       "<table border=\"1\" class=\"dataframe\">\n",
       "  <thead>\n",
       "    <tr style=\"text-align: right;\">\n",
       "      <th>pair</th>\n",
       "      <th>audusd</th>\n",
       "      <th>eurusd</th>\n",
       "      <th>gbpusd</th>\n",
       "      <th>nzdusd</th>\n",
       "      <th>usdcad</th>\n",
       "      <th>usdchf</th>\n",
       "      <th>usdjpy</th>\n",
       "      <th>usdmxn</th>\n",
       "      <th>usdnok</th>\n",
       "      <th>usdsek</th>\n",
       "      <th>usdsgd</th>\n",
       "    </tr>\n",
       "    <tr>\n",
       "      <th>time</th>\n",
       "      <th></th>\n",
       "      <th></th>\n",
       "      <th></th>\n",
       "      <th></th>\n",
       "      <th></th>\n",
       "      <th></th>\n",
       "      <th></th>\n",
       "      <th></th>\n",
       "      <th></th>\n",
       "      <th></th>\n",
       "      <th></th>\n",
       "    </tr>\n",
       "  </thead>\n",
       "  <tbody>\n",
       "    <tr>\n",
       "      <th>2022-12-19 10:00:00</th>\n",
       "      <td>0.67206</td>\n",
       "      <td>1.06050</td>\n",
       "      <td>1.21763</td>\n",
       "      <td>0.63742</td>\n",
       "      <td>1.36587</td>\n",
       "      <td>0.93191</td>\n",
       "      <td>136.597</td>\n",
       "      <td>19.82025</td>\n",
       "      <td>9.90548</td>\n",
       "      <td>10.38222</td>\n",
       "      <td>1.35750</td>\n",
       "    </tr>\n",
       "    <tr>\n",
       "      <th>2022-12-19 10:01:00</th>\n",
       "      <td>0.67193</td>\n",
       "      <td>1.06065</td>\n",
       "      <td>1.21781</td>\n",
       "      <td>0.63733</td>\n",
       "      <td>1.36568</td>\n",
       "      <td>0.93193</td>\n",
       "      <td>136.615</td>\n",
       "      <td>19.82221</td>\n",
       "      <td>9.90377</td>\n",
       "      <td>10.38503</td>\n",
       "      <td>1.35728</td>\n",
       "    </tr>\n",
       "    <tr>\n",
       "      <th>2022-12-19 10:02:00</th>\n",
       "      <td>0.67184</td>\n",
       "      <td>1.06052</td>\n",
       "      <td>1.21762</td>\n",
       "      <td>0.63729</td>\n",
       "      <td>1.36578</td>\n",
       "      <td>0.93195</td>\n",
       "      <td>136.627</td>\n",
       "      <td>19.82301</td>\n",
       "      <td>9.90617</td>\n",
       "      <td>10.38680</td>\n",
       "      <td>1.35743</td>\n",
       "    </tr>\n",
       "    <tr>\n",
       "      <th>2022-12-19 10:03:00</th>\n",
       "      <td>0.67186</td>\n",
       "      <td>1.06050</td>\n",
       "      <td>1.21745</td>\n",
       "      <td>0.63724</td>\n",
       "      <td>1.36584</td>\n",
       "      <td>0.93199</td>\n",
       "      <td>136.623</td>\n",
       "      <td>19.82379</td>\n",
       "      <td>9.90684</td>\n",
       "      <td>10.38535</td>\n",
       "      <td>1.35744</td>\n",
       "    </tr>\n",
       "    <tr>\n",
       "      <th>2022-12-19 10:04:00</th>\n",
       "      <td>0.67199</td>\n",
       "      <td>1.06043</td>\n",
       "      <td>1.21742</td>\n",
       "      <td>0.63726</td>\n",
       "      <td>1.36539</td>\n",
       "      <td>0.93206</td>\n",
       "      <td>136.614</td>\n",
       "      <td>19.83121</td>\n",
       "      <td>9.90563</td>\n",
       "      <td>10.38469</td>\n",
       "      <td>1.35738</td>\n",
       "    </tr>\n",
       "    <tr>\n",
       "      <th>...</th>\n",
       "      <td>...</td>\n",
       "      <td>...</td>\n",
       "      <td>...</td>\n",
       "      <td>...</td>\n",
       "      <td>...</td>\n",
       "      <td>...</td>\n",
       "      <td>...</td>\n",
       "      <td>...</td>\n",
       "      <td>...</td>\n",
       "      <td>...</td>\n",
       "      <td>...</td>\n",
       "    </tr>\n",
       "    <tr>\n",
       "      <th>2022-12-19 11:56:00</th>\n",
       "      <td>0.67113</td>\n",
       "      <td>1.06259</td>\n",
       "      <td>1.21858</td>\n",
       "      <td>0.63717</td>\n",
       "      <td>1.36374</td>\n",
       "      <td>0.93030</td>\n",
       "      <td>136.863</td>\n",
       "      <td>19.72430</td>\n",
       "      <td>9.88678</td>\n",
       "      <td>10.36794</td>\n",
       "      <td>1.35485</td>\n",
       "    </tr>\n",
       "    <tr>\n",
       "      <th>2022-12-19 11:57:00</th>\n",
       "      <td>0.67104</td>\n",
       "      <td>1.06236</td>\n",
       "      <td>1.21829</td>\n",
       "      <td>0.63712</td>\n",
       "      <td>1.36373</td>\n",
       "      <td>0.93038</td>\n",
       "      <td>136.854</td>\n",
       "      <td>19.72457</td>\n",
       "      <td>9.88837</td>\n",
       "      <td>10.37117</td>\n",
       "      <td>1.35497</td>\n",
       "    </tr>\n",
       "    <tr>\n",
       "      <th>2022-12-19 11:58:00</th>\n",
       "      <td>0.67105</td>\n",
       "      <td>1.06238</td>\n",
       "      <td>1.21808</td>\n",
       "      <td>0.63701</td>\n",
       "      <td>1.36391</td>\n",
       "      <td>0.93045</td>\n",
       "      <td>136.878</td>\n",
       "      <td>19.72568</td>\n",
       "      <td>9.88969</td>\n",
       "      <td>10.37338</td>\n",
       "      <td>1.35504</td>\n",
       "    </tr>\n",
       "    <tr>\n",
       "      <th>2022-12-19 11:59:00</th>\n",
       "      <td>0.67095</td>\n",
       "      <td>1.06234</td>\n",
       "      <td>1.21785</td>\n",
       "      <td>0.63698</td>\n",
       "      <td>1.36379</td>\n",
       "      <td>0.93037</td>\n",
       "      <td>136.881</td>\n",
       "      <td>19.72666</td>\n",
       "      <td>9.88997</td>\n",
       "      <td>10.37303</td>\n",
       "      <td>1.35512</td>\n",
       "    </tr>\n",
       "    <tr>\n",
       "      <th>2022-12-19 12:00:00</th>\n",
       "      <td>0.67089</td>\n",
       "      <td>1.06197</td>\n",
       "      <td>1.21754</td>\n",
       "      <td>0.63695</td>\n",
       "      <td>1.36402</td>\n",
       "      <td>0.93045</td>\n",
       "      <td>136.896</td>\n",
       "      <td>19.72405</td>\n",
       "      <td>9.89168</td>\n",
       "      <td>10.37518</td>\n",
       "      <td>1.35537</td>\n",
       "    </tr>\n",
       "  </tbody>\n",
       "</table>\n",
       "<p>121 rows × 11 columns</p>\n",
       "</div>"
      ],
      "text/plain": [
       "pair                  audusd   eurusd   gbpusd   nzdusd   usdcad   usdchf  \\\n",
       "time                                                                        \n",
       "2022-12-19 10:00:00  0.67206  1.06050  1.21763  0.63742  1.36587  0.93191   \n",
       "2022-12-19 10:01:00  0.67193  1.06065  1.21781  0.63733  1.36568  0.93193   \n",
       "2022-12-19 10:02:00  0.67184  1.06052  1.21762  0.63729  1.36578  0.93195   \n",
       "2022-12-19 10:03:00  0.67186  1.06050  1.21745  0.63724  1.36584  0.93199   \n",
       "2022-12-19 10:04:00  0.67199  1.06043  1.21742  0.63726  1.36539  0.93206   \n",
       "...                      ...      ...      ...      ...      ...      ...   \n",
       "2022-12-19 11:56:00  0.67113  1.06259  1.21858  0.63717  1.36374  0.93030   \n",
       "2022-12-19 11:57:00  0.67104  1.06236  1.21829  0.63712  1.36373  0.93038   \n",
       "2022-12-19 11:58:00  0.67105  1.06238  1.21808  0.63701  1.36391  0.93045   \n",
       "2022-12-19 11:59:00  0.67095  1.06234  1.21785  0.63698  1.36379  0.93037   \n",
       "2022-12-19 12:00:00  0.67089  1.06197  1.21754  0.63695  1.36402  0.93045   \n",
       "\n",
       "pair                  usdjpy    usdmxn   usdnok    usdsek   usdsgd  \n",
       "time                                                                \n",
       "2022-12-19 10:00:00  136.597  19.82025  9.90548  10.38222  1.35750  \n",
       "2022-12-19 10:01:00  136.615  19.82221  9.90377  10.38503  1.35728  \n",
       "2022-12-19 10:02:00  136.627  19.82301  9.90617  10.38680  1.35743  \n",
       "2022-12-19 10:03:00  136.623  19.82379  9.90684  10.38535  1.35744  \n",
       "2022-12-19 10:04:00  136.614  19.83121  9.90563  10.38469  1.35738  \n",
       "...                      ...       ...      ...       ...      ...  \n",
       "2022-12-19 11:56:00  136.863  19.72430  9.88678  10.36794  1.35485  \n",
       "2022-12-19 11:57:00  136.854  19.72457  9.88837  10.37117  1.35497  \n",
       "2022-12-19 11:58:00  136.878  19.72568  9.88969  10.37338  1.35504  \n",
       "2022-12-19 11:59:00  136.881  19.72666  9.88997  10.37303  1.35512  \n",
       "2022-12-19 12:00:00  136.896  19.72405  9.89168  10.37518  1.35537  \n",
       "\n",
       "[121 rows x 11 columns]"
      ]
     },
     "execution_count": 5,
     "metadata": {},
     "output_type": "execute_result"
    }
   ],
   "source": [
    "# Input data\n",
    "\n",
    "# Pairs list\n",
    "ticker = ['audusd', 'eurusd', 'gbpusd', 'nzdusd', 'usdcad', 'usdchf', 'usdjpy', 'usdsgd', 'usdmxn', 'usdnok', 'usdsek']\n",
    "# Database name\n",
    "dbname = settings.dbname\n",
    "# Extracted column\n",
    "data_column = 'close'\n",
    "axis = 0\n",
    "# Date and time -> returns data from 2022-12-19 10:00:00 to 2022-12-19 12:00:00\n",
    "from_date = '2022.12.19 10:00:00'\n",
    "to_date = '2022.12.19 12:00:00'\n",
    "\n",
    "# Load data into dataframe\n",
    "df = repo.read_table(from_date, to_date, ticker, dbname, data_column, axis)\n",
    "df.info()\n",
    "df"
   ]
  },
  {
   "cell_type": "markdown",
   "id": "bf3c3258-16ba-401f-b687-673a0114ef11",
   "metadata": {},
   "source": [
    "### Data wrangling"
   ]
  },
  {
   "cell_type": "code",
   "execution_count": 4,
   "id": "0e85a6d9-339c-4f9f-8bbc-c0e3af90207d",
   "metadata": {},
   "outputs": [
    {
     "ename": "NameError",
     "evalue": "name 'DataAnalysis' is not defined",
     "output_type": "error",
     "traceback": [
      "\u001b[1;31m---------------------------------------------------------------------------\u001b[0m",
      "\u001b[1;31mNameError\u001b[0m                                 Traceback (most recent call last)",
      "Cell \u001b[1;32mIn[4], line 3\u001b[0m\n\u001b[0;32m      1\u001b[0m \u001b[38;5;66;03m# Include 4 steps: update pair name, inverse rates, append 'week' column and reindex database according to week.\u001b[39;00m\n\u001b[1;32m----> 3\u001b[0m anal \u001b[38;5;241m=\u001b[39m \u001b[43mDataAnalysis\u001b[49m()\n\u001b[0;32m      4\u001b[0m df_stats \u001b[38;5;241m=\u001b[39m anal\u001b[38;5;241m.\u001b[39mdata_wrangle(df)\n\u001b[0;32m      6\u001b[0m \u001b[38;5;66;03m# Check the data availability\u001b[39;00m\n",
      "\u001b[1;31mNameError\u001b[0m: name 'DataAnalysis' is not defined"
     ]
    }
   ],
   "source": [
    "# Include 4 steps: update pair name, inverse rates, append 'week' column and reindex database according to week.\n",
    "\n",
    "anal = DataAnalysis()\n",
    "df_stats = anal.data_wrangle(df)\n",
    "\n",
    "# Check the data availability\n",
    "fig = px.line((pd.isna(df_stats)).groupby(df_stats.index.strftime('%H:%M')).sum())\n",
    "fig.show()"
   ]
  },
  {
   "cell_type": "markdown",
   "id": "2805755b-4e7f-4df4-b4e0-5f762de6807e",
   "metadata": {},
   "source": [
    "## Data analysis"
   ]
  },
  {
   "cell_type": "markdown",
   "id": "3ac8e14b-1c32-40d4-88af-14f1968b0fe1",
   "metadata": {},
   "source": [
    "### Descriptive statistics"
   ]
  },
  {
   "cell_type": "code",
   "execution_count": 7,
   "id": "eeaeeb5e-9f48-4d45-ba87-b1df0b208aa4",
   "metadata": {},
   "outputs": [
    {
     "data": {
      "image/png": "[encoded data removed]",
      "text/plain": [
       "<Figure size 640x480 with 1 Axes>"
      ]
     },
     "metadata": {},
     "output_type": "display_data"
    },
    {
     "name": "stdout",
     "output_type": "stream",
     "text": [
      "Descriptive statistics:\n",
      "               aud         eur         gbp         nzd         cad         chf  \\\n",
      "count  121.000000  121.000000  121.000000  121.000000  121.000000  121.000000   \n",
      "mean    -0.001437    0.001147   -0.000058   -0.000607    0.001122    0.001298   \n",
      "std      0.022626    0.019103    0.024194    0.022036    0.020194    0.021584   \n",
      "min     -0.068428   -0.069824   -0.064218   -0.059797   -0.078258   -0.112558   \n",
      "25%     -0.014879   -0.009428   -0.015630   -0.012597   -0.012445   -0.008593   \n",
      "50%     -0.001492    0.001883    0.000000   -0.001573    0.000000    0.000000   \n",
      "75%      0.013428    0.012254    0.013960    0.011023    0.010239    0.015017   \n",
      "max      0.064169    0.057530    0.060036    0.073999    0.057089    0.061213   \n",
      "\n",
      "              jpy         mxn         nok         sek         sgd  \n",
      "count  121.000000  121.000000  121.000000  121.000000  121.000000  \n",
      "mean    -0.001806    0.004024    0.001156    0.000564    0.001298  \n",
      "std      0.016390    0.024173    0.026896    0.025039    0.011554  \n",
      "min     -0.054713   -0.061623   -0.077767   -0.068125   -0.018452  \n",
      "25%     -0.011671   -0.009228   -0.014969   -0.015578   -0.007366  \n",
      "50%     -0.000730    0.001766    0.000000   -0.000193    0.000000  \n",
      "75%      0.010252    0.020679    0.014495    0.014589    0.007366  \n",
      "max      0.033571    0.063068    0.089525    0.062765    0.043500  \n"
     ]
    }
   ],
   "source": [
    "# Define removal period\n",
    "drop_from_time = '17:00'\n",
    "drop_end_time = '17:30'\n",
    "\n",
    "# Compute return by minute\n",
    "df_g10 = anal.compute_return(df_stats, drop_from_time, drop_end_time)\n",
    "\n",
    "# Show return boxplot  \n",
    "ax = plt.axes()\n",
    "sns.boxplot(df_g10, ax=ax)\n",
    "plt.title('Boxplot of currency return')\n",
    "plt.show();\n",
    "\n",
    "# Descriptive statistics  \n",
    "print(f\"Descriptive statistics:\\n\", df_g10.describe())\n"
   ]
  },
  {
   "cell_type": "markdown",
   "id": "2793e712-34d6-4e9a-9873-2d64881ebb3c",
   "metadata": {},
   "source": [
    "### Correlation heatmap"
   ]
  },
  {
   "cell_type": "code",
   "execution_count": 8,
   "id": "5c2ddae1-f985-430f-858e-6208722d8ee9",
   "metadata": {},
   "outputs": [
    {
     "data": {
      "image/png": "[encoded data removed]",
      "text/plain": [
       "<Figure size 640x480 with 2 Axes>"
      ]
     },
     "metadata": {},
     "output_type": "display_data"
    }
   ],
   "source": [
    "ax = plt.axes()\n",
    "sns.heatmap(df_g10.corr(), cmap=\"YlGnBu\", annot=True, ax = ax)\n",
    "ax.set_title('Correlation Heatmap')\n",
    "plt.show()"
   ]
  },
  {
   "cell_type": "markdown",
   "id": "e0d6be13-046f-4f85-afe3-e83db1de44f6",
   "metadata": {},
   "source": [
    "### Eigenvalues computation"
   ]
  },
  {
   "cell_type": "code",
   "execution_count": 9,
   "id": "876f8cf4-158e-426a-85d8-3dae93f292ca",
   "metadata": {},
   "outputs": [
    {
     "name": "stdout",
     "output_type": "stream",
     "text": [
      "<class 'pandas.core.frame.DataFrame'>\n",
      "DatetimeIndex: 11 entries, 2022-12-19 11:03:00 to 2022-12-19 11:49:00\n",
      "Data columns (total 11 columns):\n",
      " #   Column  Non-Null Count  Dtype  \n",
      "---  ------  --------------  -----  \n",
      " 0   1       11 non-null     float64\n",
      " 1   2       11 non-null     float64\n",
      " 2   3       11 non-null     float64\n",
      " 3   4       11 non-null     float64\n",
      " 4   5       11 non-null     float64\n",
      " 5   6       11 non-null     float64\n",
      " 6   7       11 non-null     float64\n",
      " 7   8       11 non-null     float64\n",
      " 8   9       11 non-null     float64\n",
      " 9   10      11 non-null     float64\n",
      " 10  11      11 non-null     float64\n",
      "dtypes: float64(11)\n",
      "memory usage: 1.0 KB\n"
     ]
    }
   ],
   "source": [
    "# Using excess out-of-sample risk covariance to compute eigenvalues\n",
    "\n",
    "df_eig = anal.compute_eig(df_g10)\n",
    "df_eig.info()"
   ]
  },
  {
   "cell_type": "markdown",
   "id": "36e9dd40-f44c-4036-af34-94f4919d52e7",
   "metadata": {},
   "source": [
    "### PCA"
   ]
  },
  {
   "cell_type": "code",
   "execution_count": 10,
   "id": "3db75225-4302-411f-9871-4031b338ec25",
   "metadata": {},
   "outputs": [],
   "source": [
    "# Split data\n",
    "train_ret, test_ret = train_test_split(df_g10.values, test_size=0.5, random_state=42, shuffle=False)"
   ]
  },
  {
   "cell_type": "code",
   "execution_count": 12,
   "id": "c2ef24b5-b0f9-4bb2-91e2-9623c1a390e5",
   "metadata": {},
   "outputs": [
    {
     "name": "stdout",
     "output_type": "stream",
     "text": [
      "(11, 11)\n",
      "<class 'pandas.core.frame.DataFrame'>\n",
      "RangeIndex: 11 entries, 0 to 10\n",
      "Data columns (total 11 columns):\n",
      " #   Column  Non-Null Count  Dtype  \n",
      "---  ------  --------------  -----  \n",
      " 0   0       11 non-null     float64\n",
      " 1   1       11 non-null     float64\n",
      " 2   2       11 non-null     float64\n",
      " 3   3       11 non-null     float64\n",
      " 4   4       11 non-null     float64\n",
      " 5   5       11 non-null     float64\n",
      " 6   6       11 non-null     float64\n",
      " 7   7       11 non-null     float64\n",
      " 8   8       11 non-null     float64\n",
      " 9   9       11 non-null     float64\n",
      " 10  10      11 non-null     float64\n",
      "dtypes: float64(11)\n",
      "memory usage: 1.1 KB\n",
      "None\n"
     ]
    },
    {
     "data": {
      "text/html": [
       "<div>\n",
       "<style scoped>\n",
       "    .dataframe tbody tr th:only-of-type {\n",
       "        vertical-align: middle;\n",
       "    }\n",
       "\n",
       "    .dataframe tbody tr th {\n",
       "        vertical-align: top;\n",
       "    }\n",
       "\n",
       "    .dataframe thead th {\n",
       "        text-align: right;\n",
       "    }\n",
       "</style>\n",
       "<table border=\"1\" class=\"dataframe\">\n",
       "  <thead>\n",
       "    <tr style=\"text-align: right;\">\n",
       "      <th></th>\n",
       "      <th>0</th>\n",
       "      <th>1</th>\n",
       "      <th>2</th>\n",
       "      <th>3</th>\n",
       "      <th>4</th>\n",
       "      <th>5</th>\n",
       "      <th>6</th>\n",
       "      <th>7</th>\n",
       "      <th>8</th>\n",
       "      <th>9</th>\n",
       "      <th>10</th>\n",
       "    </tr>\n",
       "  </thead>\n",
       "  <tbody>\n",
       "    <tr>\n",
       "      <th>0</th>\n",
       "      <td>-0.356766</td>\n",
       "      <td>-0.286283</td>\n",
       "      <td>-0.368809</td>\n",
       "      <td>-0.335599</td>\n",
       "      <td>-0.239838</td>\n",
       "      <td>-0.253118</td>\n",
       "      <td>-0.227491</td>\n",
       "      <td>-0.035732</td>\n",
       "      <td>-0.449461</td>\n",
       "      <td>-0.370897</td>\n",
       "      <td>-0.167077</td>\n",
       "    </tr>\n",
       "    <tr>\n",
       "      <th>1</th>\n",
       "      <td>-0.353079</td>\n",
       "      <td>0.191457</td>\n",
       "      <td>0.196809</td>\n",
       "      <td>-0.112244</td>\n",
       "      <td>-0.221217</td>\n",
       "      <td>0.272733</td>\n",
       "      <td>-0.080743</td>\n",
       "      <td>-0.777150</td>\n",
       "      <td>-0.046692</td>\n",
       "      <td>0.225530</td>\n",
       "      <td>0.022370</td>\n",
       "    </tr>\n",
       "    <tr>\n",
       "      <th>2</th>\n",
       "      <td>0.392084</td>\n",
       "      <td>-0.356882</td>\n",
       "      <td>-0.393527</td>\n",
       "      <td>0.230586</td>\n",
       "      <td>0.322037</td>\n",
       "      <td>0.107269</td>\n",
       "      <td>0.045918</td>\n",
       "      <td>-0.547924</td>\n",
       "      <td>0.101838</td>\n",
       "      <td>-0.286667</td>\n",
       "      <td>-0.027922</td>\n",
       "    </tr>\n",
       "    <tr>\n",
       "      <th>3</th>\n",
       "      <td>-0.109102</td>\n",
       "      <td>0.047229</td>\n",
       "      <td>0.168450</td>\n",
       "      <td>-0.167492</td>\n",
       "      <td>0.274165</td>\n",
       "      <td>-0.783459</td>\n",
       "      <td>-0.119882</td>\n",
       "      <td>-0.233205</td>\n",
       "      <td>0.413246</td>\n",
       "      <td>0.016678</td>\n",
       "      <td>-0.025610</td>\n",
       "    </tr>\n",
       "    <tr>\n",
       "      <th>4</th>\n",
       "      <td>0.232103</td>\n",
       "      <td>-0.104366</td>\n",
       "      <td>-0.010844</td>\n",
       "      <td>0.415734</td>\n",
       "      <td>-0.666090</td>\n",
       "      <td>-0.417246</td>\n",
       "      <td>0.304009</td>\n",
       "      <td>-0.130991</td>\n",
       "      <td>-0.096346</td>\n",
       "      <td>0.158991</td>\n",
       "      <td>-0.019314</td>\n",
       "    </tr>\n",
       "  </tbody>\n",
       "</table>\n",
       "</div>"
      ],
      "text/plain": [
       "         0         1         2         3         4         5         6   \\\n",
       "0 -0.356766 -0.286283 -0.368809 -0.335599 -0.239838 -0.253118 -0.227491   \n",
       "1 -0.353079  0.191457  0.196809 -0.112244 -0.221217  0.272733 -0.080743   \n",
       "2  0.392084 -0.356882 -0.393527  0.230586  0.322037  0.107269  0.045918   \n",
       "3 -0.109102  0.047229  0.168450 -0.167492  0.274165 -0.783459 -0.119882   \n",
       "4  0.232103 -0.104366 -0.010844  0.415734 -0.666090 -0.417246  0.304009   \n",
       "\n",
       "         7         8         9         10  \n",
       "0 -0.035732 -0.449461 -0.370897 -0.167077  \n",
       "1 -0.777150 -0.046692  0.225530  0.022370  \n",
       "2 -0.547924  0.101838 -0.286667 -0.027922  \n",
       "3 -0.233205  0.413246  0.016678 -0.025610  \n",
       "4 -0.130991 -0.096346  0.158991 -0.019314  "
      ]
     },
     "execution_count": 12,
     "metadata": {},
     "output_type": "execute_result"
    }
   ],
   "source": [
    "pca = PCA(random_state=42)\n",
    "pca.fit(train_ret)\n",
    "# Weight is eigenvector of covariance matrix\n",
    "df_weight = pd.DataFrame(data=pca.components_)\n",
    "print(df_weight.shape)\n",
    "print(df_weight.info())\n",
    "df_weight.head()"
   ]
  },
  {
   "cell_type": "code",
   "execution_count": 224,
   "id": "2db76bed-eec4-4228-981f-20151d0adbc4",
   "metadata": {},
   "outputs": [
    {
     "data": {
      "application/vnd.plotly.v1+json": {
       "config": {
        "plotlyServerURL": "https://plot.ly"
       },
       "data": [
        {
         "hovertemplate": "x=%{x}<br>y=%{y}<extra></extra>",
         "legendgroup": "",
         "marker": {
          "color": "#636efa",
          "symbol": "circle"
         },
         "mode": "markers",
         "name": "",
         "orientation": "v",
         "showlegend": false,
         "type": "scatter",
         "x": [
          1,
          2,
          3,
          4,
          5,
          6,
          7,
          8,
          9,
          10,
          11
         ],
         "xaxis": "x",
         "y": [
          0.5045633040501727,
          0.13850006864216421,
          0.10214517430457246,
          0.0840125234725253,
          0.0563819468491852,
          0.03548565294860308,
          0.030342827524512787,
          0.017214524573487808,
          0.013810588593739757,
          0.011257947683660481,
          0.006285441357376216
         ],
         "yaxis": "y"
        }
       ],
       "layout": {
        "autosize": true,
        "legend": {
         "tracegroupgap": 0
        },
        "margin": {
         "t": 60
        },
        "template": {
         "data": {
          "bar": [
           {
            "error_x": {
             "color": "#2a3f5f"
            },
            "error_y": {
             "color": "#2a3f5f"
            },
            "marker": {
             "line": {
              "color": "#E5ECF6",
              "width": 0.5
             },
             "pattern": {
              "fillmode": "overlay",
              "size": 10,
              "solidity": 0.2
             }
            },
            "type": "bar"
           }
          ],
          "barpolar": [
           {
            "marker": {
             "line": {
              "color": "#E5ECF6",
              "width": 0.5
             },
             "pattern": {
              "fillmode": "overlay",
              "size": 10,
              "solidity": 0.2
             }
            },
            "type": "barpolar"
           }
          ],
          "carpet": [
           {
            "aaxis": {
             "endlinecolor": "#2a3f5f",
             "gridcolor": "white",
             "linecolor": "white",
             "minorgridcolor": "white",
             "startlinecolor": "#2a3f5f"
            },
            "baxis": {
             "endlinecolor": "#2a3f5f",
             "gridcolor": "white",
             "linecolor": "white",
             "minorgridcolor": "white",
             "startlinecolor": "#2a3f5f"
            },
            "type": "carpet"
           }
          ],
          "choropleth": [
           {
            "colorbar": {
             "outlinewidth": 0,
             "ticks": ""
            },
            "type": "choropleth"
           }
          ],
          "contour": [
           {
            "colorbar": {
             "outlinewidth": 0,
             "ticks": ""
            },
            "colorscale": [
             [
              0,
              "#0d0887"
             ],
             [
              0.1111111111111111,
              "#46039f"
             ],
             [
              0.2222222222222222,
              "#7201a8"
             ],
             [
              0.3333333333333333,
              "#9c179e"
             ],
             [
              0.4444444444444444,
              "#bd3786"
             ],
             [
              0.5555555555555556,
              "#d8576b"
             ],
             [
              0.6666666666666666,
              "#ed7953"
             ],
             [
              0.7777777777777778,
              "#fb9f3a"
             ],
             [
              0.8888888888888888,
              "#fdca26"
             ],
             [
              1,
              "#f0f921"
             ]
            ],
            "type": "contour"
           }
          ],
          "contourcarpet": [
           {
            "colorbar": {
             "outlinewidth": 0,
             "ticks": ""
            },
            "type": "contourcarpet"
           }
          ],
          "heatmap": [
           {
            "colorbar": {
             "outlinewidth": 0,
             "ticks": ""
            },
            "colorscale": [
             [
              0,
              "#0d0887"
             ],
             [
              0.1111111111111111,
              "#46039f"
             ],
             [
              0.2222222222222222,
              "#7201a8"
             ],
             [
              0.3333333333333333,
              "#9c179e"
             ],
             [
              0.4444444444444444,
              "#bd3786"
             ],
             [
              0.5555555555555556,
              "#d8576b"
             ],
             [
              0.6666666666666666,
              "#ed7953"
             ],
             [
              0.7777777777777778,
              "#fb9f3a"
             ],
             [
              0.8888888888888888,
              "#fdca26"
             ],
             [
              1,
              "#f0f921"
             ]
            ],
            "type": "heatmap"
           }
          ],
          "heatmapgl": [
           {
            "colorbar": {
             "outlinewidth": 0,
             "ticks": ""
            },
            "colorscale": [
             [
              0,
              "#0d0887"
             ],
             [
              0.1111111111111111,
              "#46039f"
             ],
             [
              0.2222222222222222,
              "#7201a8"
             ],
             [
              0.3333333333333333,
              "#9c179e"
             ],
             [
              0.4444444444444444,
              "#bd3786"
             ],
             [
              0.5555555555555556,
              "#d8576b"
             ],
             [
              0.6666666666666666,
              "#ed7953"
             ],
             [
              0.7777777777777778,
              "#fb9f3a"
             ],
             [
              0.8888888888888888,
              "#fdca26"
             ],
             [
              1,
              "#f0f921"
             ]
            ],
            "type": "heatmapgl"
           }
          ],
          "histogram": [
           {
            "marker": {
             "pattern": {
              "fillmode": "overlay",
              "size": 10,
              "solidity": 0.2
             }
            },
            "type": "histogram"
           }
          ],
          "histogram2d": [
           {
            "colorbar": {
             "outlinewidth": 0,
             "ticks": ""
            },
            "colorscale": [
             [
              0,
              "#0d0887"
             ],
             [
              0.1111111111111111,
              "#46039f"
             ],
             [
              0.2222222222222222,
              "#7201a8"
             ],
             [
              0.3333333333333333,
              "#9c179e"
             ],
             [
              0.4444444444444444,
              "#bd3786"
             ],
             [
              0.5555555555555556,
              "#d8576b"
             ],
             [
              0.6666666666666666,
              "#ed7953"
             ],
             [
              0.7777777777777778,
              "#fb9f3a"
             ],
             [
              0.8888888888888888,
              "#fdca26"
             ],
             [
              1,
              "#f0f921"
             ]
            ],
            "type": "histogram2d"
           }
          ],
          "histogram2dcontour": [
           {
            "colorbar": {
             "outlinewidth": 0,
             "ticks": ""
            },
            "colorscale": [
             [
              0,
              "#0d0887"
             ],
             [
              0.1111111111111111,
              "#46039f"
             ],
             [
              0.2222222222222222,
              "#7201a8"
             ],
             [
              0.3333333333333333,
              "#9c179e"
             ],
             [
              0.4444444444444444,
              "#bd3786"
             ],
             [
              0.5555555555555556,
              "#d8576b"
             ],
             [
              0.6666666666666666,
              "#ed7953"
             ],
             [
              0.7777777777777778,
              "#fb9f3a"
             ],
             [
              0.8888888888888888,
              "#fdca26"
             ],
             [
              1,
              "#f0f921"
             ]
            ],
            "type": "histogram2dcontour"
           }
          ],
          "mesh3d": [
           {
            "colorbar": {
             "outlinewidth": 0,
             "ticks": ""
            },
            "type": "mesh3d"
           }
          ],
          "parcoords": [
           {
            "line": {
             "colorbar": {
              "outlinewidth": 0,
              "ticks": ""
             }
            },
            "type": "parcoords"
           }
          ],
          "pie": [
           {
            "automargin": true,
            "type": "pie"
           }
          ],
          "scatter": [
           {
            "fillpattern": {
             "fillmode": "overlay",
             "size": 10,
             "solidity": 0.2
            },
            "type": "scatter"
           }
          ],
          "scatter3d": [
           {
            "line": {
             "colorbar": {
              "outlinewidth": 0,
              "ticks": ""
             }
            },
            "marker": {
             "colorbar": {
              "outlinewidth": 0,
              "ticks": ""
             }
            },
            "type": "scatter3d"
           }
          ],
          "scattercarpet": [
           {
            "marker": {
             "colorbar": {
              "outlinewidth": 0,
              "ticks": ""
             }
            },
            "type": "scattercarpet"
           }
          ],
          "scattergeo": [
           {
            "marker": {
             "colorbar": {
              "outlinewidth": 0,
              "ticks": ""
             }
            },
            "type": "scattergeo"
           }
          ],
          "scattergl": [
           {
            "marker": {
             "colorbar": {
              "outlinewidth": 0,
              "ticks": ""
             }
            },
            "type": "scattergl"
           }
          ],
          "scattermapbox": [
           {
            "marker": {
             "colorbar": {
              "outlinewidth": 0,
              "ticks": ""
             }
            },
            "type": "scattermapbox"
           }
          ],
          "scatterpolar": [
           {
            "marker": {
             "colorbar": {
              "outlinewidth": 0,
              "ticks": ""
             }
            },
            "type": "scatterpolar"
           }
          ],
          "scatterpolargl": [
           {
            "marker": {
             "colorbar": {
              "outlinewidth": 0,
              "ticks": ""
             }
            },
            "type": "scatterpolargl"
           }
          ],
          "scatterternary": [
           {
            "marker": {
             "colorbar": {
              "outlinewidth": 0,
              "ticks": ""
             }
            },
            "type": "scatterternary"
           }
          ],
          "surface": [
           {
            "colorbar": {
             "outlinewidth": 0,
             "ticks": ""
            },
            "colorscale": [
             [
              0,
              "#0d0887"
             ],
             [
              0.1111111111111111,
              "#46039f"
             ],
             [
              0.2222222222222222,
              "#7201a8"
             ],
             [
              0.3333333333333333,
              "#9c179e"
             ],
             [
              0.4444444444444444,
              "#bd3786"
             ],
             [
              0.5555555555555556,
              "#d8576b"
             ],
             [
              0.6666666666666666,
              "#ed7953"
             ],
             [
              0.7777777777777778,
              "#fb9f3a"
             ],
             [
              0.8888888888888888,
              "#fdca26"
             ],
             [
              1,
              "#f0f921"
             ]
            ],
            "type": "surface"
           }
          ],
          "table": [
           {
            "cells": {
             "fill": {
              "color": "#EBF0F8"
             },
             "line": {
              "color": "white"
             }
            },
            "header": {
             "fill": {
              "color": "#C8D4E3"
             },
             "line": {
              "color": "white"
             }
            },
            "type": "table"
           }
          ]
         },
         "layout": {
          "annotationdefaults": {
           "arrowcolor": "#2a3f5f",
           "arrowhead": 0,
           "arrowwidth": 1
          },
          "autotypenumbers": "strict",
          "coloraxis": {
           "colorbar": {
            "outlinewidth": 0,
            "ticks": ""
           }
          },
          "colorscale": {
           "diverging": [
            [
             0,
             "#8e0152"
            ],
            [
             0.1,
             "#c51b7d"
            ],
            [
             0.2,
             "#de77ae"
            ],
            [
             0.3,
             "#f1b6da"
            ],
            [
             0.4,
             "#fde0ef"
            ],
            [
             0.5,
             "#f7f7f7"
            ],
            [
             0.6,
             "#e6f5d0"
            ],
            [
             0.7,
             "#b8e186"
            ],
            [
             0.8,
             "#7fbc41"
            ],
            [
             0.9,
             "#4d9221"
            ],
            [
             1,
             "#276419"
            ]
           ],
           "sequential": [
            [
             0,
             "#0d0887"
            ],
            [
             0.1111111111111111,
             "#46039f"
            ],
            [
             0.2222222222222222,
             "#7201a8"
            ],
            [
             0.3333333333333333,
             "#9c179e"
            ],
            [
             0.4444444444444444,
             "#bd3786"
            ],
            [
             0.5555555555555556,
             "#d8576b"
            ],
            [
             0.6666666666666666,
             "#ed7953"
            ],
            [
             0.7777777777777778,
             "#fb9f3a"
            ],
            [
             0.8888888888888888,
             "#fdca26"
            ],
            [
             1,
             "#f0f921"
            ]
           ],
           "sequentialminus": [
            [
             0,
             "#0d0887"
            ],
            [
             0.1111111111111111,
             "#46039f"
            ],
            [
             0.2222222222222222,
             "#7201a8"
            ],
            [
             0.3333333333333333,
             "#9c179e"
            ],
            [
             0.4444444444444444,
             "#bd3786"
            ],
            [
             0.5555555555555556,
             "#d8576b"
            ],
            [
             0.6666666666666666,
             "#ed7953"
            ],
            [
             0.7777777777777778,
             "#fb9f3a"
            ],
            [
             0.8888888888888888,
             "#fdca26"
            ],
            [
             1,
             "#f0f921"
            ]
           ]
          },
          "colorway": [
           "#636efa",
           "#EF553B",
           "#00cc96",
           "#ab63fa",
           "#FFA15A",
           "#19d3f3",
           "#FF6692",
           "#B6E880",
           "#FF97FF",
           "#FECB52"
          ],
          "font": {
           "color": "#2a3f5f"
          },
          "geo": {
           "bgcolor": "white",
           "lakecolor": "white",
           "landcolor": "#E5ECF6",
           "showlakes": true,
           "showland": true,
           "subunitcolor": "white"
          },
          "hoverlabel": {
           "align": "left"
          },
          "hovermode": "closest",
          "mapbox": {
           "style": "light"
          },
          "paper_bgcolor": "white",
          "plot_bgcolor": "#E5ECF6",
          "polar": {
           "angularaxis": {
            "gridcolor": "white",
            "linecolor": "white",
            "ticks": ""
           },
           "bgcolor": "#E5ECF6",
           "radialaxis": {
            "gridcolor": "white",
            "linecolor": "white",
            "ticks": ""
           }
          },
          "scene": {
           "xaxis": {
            "backgroundcolor": "#E5ECF6",
            "gridcolor": "white",
            "gridwidth": 2,
            "linecolor": "white",
            "showbackground": true,
            "ticks": "",
            "zerolinecolor": "white"
           },
           "yaxis": {
            "backgroundcolor": "#E5ECF6",
            "gridcolor": "white",
            "gridwidth": 2,
            "linecolor": "white",
            "showbackground": true,
            "ticks": "",
            "zerolinecolor": "white"
           },
           "zaxis": {
            "backgroundcolor": "#E5ECF6",
            "gridcolor": "white",
            "gridwidth": 2,
            "linecolor": "white",
            "showbackground": true,
            "ticks": "",
            "zerolinecolor": "white"
           }
          },
          "shapedefaults": {
           "line": {
            "color": "#2a3f5f"
           }
          },
          "ternary": {
           "aaxis": {
            "gridcolor": "white",
            "linecolor": "white",
            "ticks": ""
           },
           "baxis": {
            "gridcolor": "white",
            "linecolor": "white",
            "ticks": ""
           },
           "bgcolor": "#E5ECF6",
           "caxis": {
            "gridcolor": "white",
            "linecolor": "white",
            "ticks": ""
           }
          },
          "title": {
           "x": 0.05
          },
          "xaxis": {
           "automargin": true,
           "gridcolor": "white",
           "linecolor": "white",
           "ticks": "",
           "title": {
            "standoff": 15
           },
           "zerolinecolor": "white",
           "zerolinewidth": 2
          },
          "yaxis": {
           "automargin": true,
           "gridcolor": "white",
           "linecolor": "white",
           "ticks": "",
           "title": {
            "standoff": 15
           },
           "zerolinecolor": "white",
           "zerolinewidth": 2
          }
         }
        },
        "xaxis": {
         "anchor": "y",
         "autorange": true,
         "domain": [
          0,
          1
         ],
         "range": [
          0.3306010928961749,
          11.669398907103826
         ],
         "title": {
          "text": "Eigenvalues"
         },
         "type": "linear"
        },
        "yaxis": {
         "anchor": "x",
         "autorange": true,
         "domain": [
          0,
          1
         ],
         "range": [
          -0.03229512806371957,
          0.5431438734712685
         ],
         "title": {
          "text": "Percentage of explained variance"
         },
         "type": "linear"
        }
       }
      },
      "image/png": "[encoded data removed]",
      "text/html": [
       "<div>                            <div id=\"3b683691-1341-488d-8f4a-a46bf130269c\" class=\"plotly-graph-div\" style=\"height:525px; width:100%;\"></div>            <script type=\"text/javascript\">                require([\"plotly\"], function(Plotly) {                    window.PLOTLYENV=window.PLOTLYENV || {};                                    if (document.getElementById(\"3b683691-1341-488d-8f4a-a46bf130269c\")) {                    Plotly.newPlot(                        \"3b683691-1341-488d-8f4a-a46bf130269c\",                        [{\"hovertemplate\":\"x=%{x}<br>y=%{y}<extra></extra>\",\"legendgroup\":\"\",\"marker\":{\"color\":\"#636efa\",\"symbol\":\"circle\"},\"mode\":\"markers\",\"name\":\"\",\"orientation\":\"v\",\"showlegend\":false,\"x\":[1,2,3,4,5,6,7,8,9,10,11],\"xaxis\":\"x\",\"y\":[0.5045633040501727,0.13850006864216421,0.10214517430457246,0.0840125234725253,0.0563819468491852,0.03548565294860308,0.030342827524512787,0.017214524573487808,0.013810588593739757,0.011257947683660481,0.006285441357376216],\"yaxis\":\"y\",\"type\":\"scatter\"}],                        {\"template\":{\"data\":{\"histogram2dcontour\":[{\"type\":\"histogram2dcontour\",\"colorbar\":{\"outlinewidth\":0,\"ticks\":\"\"},\"colorscale\":[[0.0,\"#0d0887\"],[0.1111111111111111,\"#46039f\"],[0.2222222222222222,\"#7201a8\"],[0.3333333333333333,\"#9c179e\"],[0.4444444444444444,\"#bd3786\"],[0.5555555555555556,\"#d8576b\"],[0.6666666666666666,\"#ed7953\"],[0.7777777777777778,\"#fb9f3a\"],[0.8888888888888888,\"#fdca26\"],[1.0,\"#f0f921\"]]}],\"choropleth\":[{\"type\":\"choropleth\",\"colorbar\":{\"outlinewidth\":0,\"ticks\":\"\"}}],\"histogram2d\":[{\"type\":\"histogram2d\",\"colorbar\":{\"outlinewidth\":0,\"ticks\":\"\"},\"colorscale\":[[0.0,\"#0d0887\"],[0.1111111111111111,\"#46039f\"],[0.2222222222222222,\"#7201a8\"],[0.3333333333333333,\"#9c179e\"],[0.4444444444444444,\"#bd3786\"],[0.5555555555555556,\"#d8576b\"],[0.6666666666666666,\"#ed7953\"],[0.7777777777777778,\"#fb9f3a\"],[0.8888888888888888,\"#fdca26\"],[1.0,\"#f0f921\"]]}],\"heatmap\":[{\"type\":\"heatmap\",\"colorbar\":{\"outlinewidth\":0,\"ticks\":\"\"},\"colorscale\":[[0.0,\"#0d0887\"],[0.1111111111111111,\"#46039f\"],[0.2222222222222222,\"#7201a8\"],[0.3333333333333333,\"#9c179e\"],[0.4444444444444444,\"#bd3786\"],[0.5555555555555556,\"#d8576b\"],[0.6666666666666666,\"#ed7953\"],[0.7777777777777778,\"#fb9f3a\"],[0.8888888888888888,\"#fdca26\"],[1.0,\"#f0f921\"]]}],\"heatmapgl\":[{\"type\":\"heatmapgl\",\"colorbar\":{\"outlinewidth\":0,\"ticks\":\"\"},\"colorscale\":[[0.0,\"#0d0887\"],[0.1111111111111111,\"#46039f\"],[0.2222222222222222,\"#7201a8\"],[0.3333333333333333,\"#9c179e\"],[0.4444444444444444,\"#bd3786\"],[0.5555555555555556,\"#d8576b\"],[0.6666666666666666,\"#ed7953\"],[0.7777777777777778,\"#fb9f3a\"],[0.8888888888888888,\"#fdca26\"],[1.0,\"#f0f921\"]]}],\"contourcarpet\":[{\"type\":\"contourcarpet\",\"colorbar\":{\"outlinewidth\":0,\"ticks\":\"\"}}],\"contour\":[{\"type\":\"contour\",\"colorbar\":{\"outlinewidth\":0,\"ticks\":\"\"},\"colorscale\":[[0.0,\"#0d0887\"],[0.1111111111111111,\"#46039f\"],[0.2222222222222222,\"#7201a8\"],[0.3333333333333333,\"#9c179e\"],[0.4444444444444444,\"#bd3786\"],[0.5555555555555556,\"#d8576b\"],[0.6666666666666666,\"#ed7953\"],[0.7777777777777778,\"#fb9f3a\"],[0.8888888888888888,\"#fdca26\"],[1.0,\"#f0f921\"]]}],\"surface\":[{\"type\":\"surface\",\"colorbar\":{\"outlinewidth\":0,\"ticks\":\"\"},\"colorscale\":[[0.0,\"#0d0887\"],[0.1111111111111111,\"#46039f\"],[0.2222222222222222,\"#7201a8\"],[0.3333333333333333,\"#9c179e\"],[0.4444444444444444,\"#bd3786\"],[0.5555555555555556,\"#d8576b\"],[0.6666666666666666,\"#ed7953\"],[0.7777777777777778,\"#fb9f3a\"],[0.8888888888888888,\"#fdca26\"],[1.0,\"#f0f921\"]]}],\"mesh3d\":[{\"type\":\"mesh3d\",\"colorbar\":{\"outlinewidth\":0,\"ticks\":\"\"}}],\"scatter\":[{\"fillpattern\":{\"fillmode\":\"overlay\",\"size\":10,\"solidity\":0.2},\"type\":\"scatter\"}],\"parcoords\":[{\"type\":\"parcoords\",\"line\":{\"colorbar\":{\"outlinewidth\":0,\"ticks\":\"\"}}}],\"scatterpolargl\":[{\"type\":\"scatterpolargl\",\"marker\":{\"colorbar\":{\"outlinewidth\":0,\"ticks\":\"\"}}}],\"bar\":[{\"error_x\":{\"color\":\"#2a3f5f\"},\"error_y\":{\"color\":\"#2a3f5f\"},\"marker\":{\"line\":{\"color\":\"#E5ECF6\",\"width\":0.5},\"pattern\":{\"fillmode\":\"overlay\",\"size\":10,\"solidity\":0.2}},\"type\":\"bar\"}],\"scattergeo\":[{\"type\":\"scattergeo\",\"marker\":{\"colorbar\":{\"outlinewidth\":0,\"ticks\":\"\"}}}],\"scatterpolar\":[{\"type\":\"scatterpolar\",\"marker\":{\"colorbar\":{\"outlinewidth\":0,\"ticks\":\"\"}}}],\"histogram\":[{\"marker\":{\"pattern\":{\"fillmode\":\"overlay\",\"size\":10,\"solidity\":0.2}},\"type\":\"histogram\"}],\"scattergl\":[{\"type\":\"scattergl\",\"marker\":{\"colorbar\":{\"outlinewidth\":0,\"ticks\":\"\"}}}],\"scatter3d\":[{\"type\":\"scatter3d\",\"line\":{\"colorbar\":{\"outlinewidth\":0,\"ticks\":\"\"}},\"marker\":{\"colorbar\":{\"outlinewidth\":0,\"ticks\":\"\"}}}],\"scattermapbox\":[{\"type\":\"scattermapbox\",\"marker\":{\"colorbar\":{\"outlinewidth\":0,\"ticks\":\"\"}}}],\"scatterternary\":[{\"type\":\"scatterternary\",\"marker\":{\"colorbar\":{\"outlinewidth\":0,\"ticks\":\"\"}}}],\"scattercarpet\":[{\"type\":\"scattercarpet\",\"marker\":{\"colorbar\":{\"outlinewidth\":0,\"ticks\":\"\"}}}],\"carpet\":[{\"aaxis\":{\"endlinecolor\":\"#2a3f5f\",\"gridcolor\":\"white\",\"linecolor\":\"white\",\"minorgridcolor\":\"white\",\"startlinecolor\":\"#2a3f5f\"},\"baxis\":{\"endlinecolor\":\"#2a3f5f\",\"gridcolor\":\"white\",\"linecolor\":\"white\",\"minorgridcolor\":\"white\",\"startlinecolor\":\"#2a3f5f\"},\"type\":\"carpet\"}],\"table\":[{\"cells\":{\"fill\":{\"color\":\"#EBF0F8\"},\"line\":{\"color\":\"white\"}},\"header\":{\"fill\":{\"color\":\"#C8D4E3\"},\"line\":{\"color\":\"white\"}},\"type\":\"table\"}],\"barpolar\":[{\"marker\":{\"line\":{\"color\":\"#E5ECF6\",\"width\":0.5},\"pattern\":{\"fillmode\":\"overlay\",\"size\":10,\"solidity\":0.2}},\"type\":\"barpolar\"}],\"pie\":[{\"automargin\":true,\"type\":\"pie\"}]},\"layout\":{\"autotypenumbers\":\"strict\",\"colorway\":[\"#636efa\",\"#EF553B\",\"#00cc96\",\"#ab63fa\",\"#FFA15A\",\"#19d3f3\",\"#FF6692\",\"#B6E880\",\"#FF97FF\",\"#FECB52\"],\"font\":{\"color\":\"#2a3f5f\"},\"hovermode\":\"closest\",\"hoverlabel\":{\"align\":\"left\"},\"paper_bgcolor\":\"white\",\"plot_bgcolor\":\"#E5ECF6\",\"polar\":{\"bgcolor\":\"#E5ECF6\",\"angularaxis\":{\"gridcolor\":\"white\",\"linecolor\":\"white\",\"ticks\":\"\"},\"radialaxis\":{\"gridcolor\":\"white\",\"linecolor\":\"white\",\"ticks\":\"\"}},\"ternary\":{\"bgcolor\":\"#E5ECF6\",\"aaxis\":{\"gridcolor\":\"white\",\"linecolor\":\"white\",\"ticks\":\"\"},\"baxis\":{\"gridcolor\":\"white\",\"linecolor\":\"white\",\"ticks\":\"\"},\"caxis\":{\"gridcolor\":\"white\",\"linecolor\":\"white\",\"ticks\":\"\"}},\"coloraxis\":{\"colorbar\":{\"outlinewidth\":0,\"ticks\":\"\"}},\"colorscale\":{\"sequential\":[[0.0,\"#0d0887\"],[0.1111111111111111,\"#46039f\"],[0.2222222222222222,\"#7201a8\"],[0.3333333333333333,\"#9c179e\"],[0.4444444444444444,\"#bd3786\"],[0.5555555555555556,\"#d8576b\"],[0.6666666666666666,\"#ed7953\"],[0.7777777777777778,\"#fb9f3a\"],[0.8888888888888888,\"#fdca26\"],[1.0,\"#f0f921\"]],\"sequentialminus\":[[0.0,\"#0d0887\"],[0.1111111111111111,\"#46039f\"],[0.2222222222222222,\"#7201a8\"],[0.3333333333333333,\"#9c179e\"],[0.4444444444444444,\"#bd3786\"],[0.5555555555555556,\"#d8576b\"],[0.6666666666666666,\"#ed7953\"],[0.7777777777777778,\"#fb9f3a\"],[0.8888888888888888,\"#fdca26\"],[1.0,\"#f0f921\"]],\"diverging\":[[0,\"#8e0152\"],[0.1,\"#c51b7d\"],[0.2,\"#de77ae\"],[0.3,\"#f1b6da\"],[0.4,\"#fde0ef\"],[0.5,\"#f7f7f7\"],[0.6,\"#e6f5d0\"],[0.7,\"#b8e186\"],[0.8,\"#7fbc41\"],[0.9,\"#4d9221\"],[1,\"#276419\"]]},\"xaxis\":{\"gridcolor\":\"white\",\"linecolor\":\"white\",\"ticks\":\"\",\"title\":{\"standoff\":15},\"zerolinecolor\":\"white\",\"automargin\":true,\"zerolinewidth\":2},\"yaxis\":{\"gridcolor\":\"white\",\"linecolor\":\"white\",\"ticks\":\"\",\"title\":{\"standoff\":15},\"zerolinecolor\":\"white\",\"automargin\":true,\"zerolinewidth\":2},\"scene\":{\"xaxis\":{\"backgroundcolor\":\"#E5ECF6\",\"gridcolor\":\"white\",\"linecolor\":\"white\",\"showbackground\":true,\"ticks\":\"\",\"zerolinecolor\":\"white\",\"gridwidth\":2},\"yaxis\":{\"backgroundcolor\":\"#E5ECF6\",\"gridcolor\":\"white\",\"linecolor\":\"white\",\"showbackground\":true,\"ticks\":\"\",\"zerolinecolor\":\"white\",\"gridwidth\":2},\"zaxis\":{\"backgroundcolor\":\"#E5ECF6\",\"gridcolor\":\"white\",\"linecolor\":\"white\",\"showbackground\":true,\"ticks\":\"\",\"zerolinecolor\":\"white\",\"gridwidth\":2}},\"shapedefaults\":{\"line\":{\"color\":\"#2a3f5f\"}},\"annotationdefaults\":{\"arrowcolor\":\"#2a3f5f\",\"arrowhead\":0,\"arrowwidth\":1},\"geo\":{\"bgcolor\":\"white\",\"landcolor\":\"#E5ECF6\",\"subunitcolor\":\"white\",\"showland\":true,\"showlakes\":true,\"lakecolor\":\"white\"},\"title\":{\"x\":0.05},\"mapbox\":{\"style\":\"light\"}}},\"xaxis\":{\"anchor\":\"y\",\"domain\":[0.0,1.0],\"title\":{\"text\":\"Eigenvalues\"}},\"yaxis\":{\"anchor\":\"x\",\"domain\":[0.0,1.0],\"title\":{\"text\":\"Percentage of explained variance\"}},\"legend\":{\"tracegroupgap\":0},\"margin\":{\"t\":60}},                        {\"responsive\": true}                    ).then(function(){\n",
       "                            \n",
       "var gd = document.getElementById('3b683691-1341-488d-8f4a-a46bf130269c');\n",
       "var x = new MutationObserver(function (mutations, observer) {{\n",
       "        var display = window.getComputedStyle(gd).display;\n",
       "        if (!display || display === 'none') {{\n",
       "            console.log([gd, 'removed!']);\n",
       "            Plotly.purge(gd);\n",
       "            observer.disconnect();\n",
       "        }}\n",
       "}});\n",
       "\n",
       "// Listen for the removal of the full notebook cells\n",
       "var notebookContainer = gd.closest('#notebook-container');\n",
       "if (notebookContainer) {{\n",
       "    x.observe(notebookContainer, {childList: true});\n",
       "}}\n",
       "\n",
       "// Listen for the clearing of the current output cell\n",
       "var outputEl = gd.closest('.output');\n",
       "if (outputEl) {{\n",
       "    x.observe(outputEl, {childList: true});\n",
       "}}\n",
       "\n",
       "                        })                };                });            </script>        </div>"
      ]
     },
     "metadata": {},
     "output_type": "display_data"
    },
    {
     "name": "stdout",
     "output_type": "stream",
     "text": [
      "[0.5045633  0.13850007 0.10214517 0.08401252 0.05638195 0.03548565\n",
      " 0.03034283 0.01721452 0.01381059 0.01125795 0.00628544]\n"
     ]
    }
   ],
   "source": [
    "# Plot the percentage of explained variance (eigenvalues)\n",
    "explain_pct = pca.explained_variance_ratio_\n",
    "fig = px.scatter(x=range(1,len(pca.explained_variance_)+1), y=explain_pct)\n",
    "fig.update_layout(\n",
    "    xaxis_title=\"Eigenvalues\",\n",
    "    yaxis_title=\"Percentage of explained variance\")\n",
    "fig.show()\n",
    "print(explain_pct)"
   ]
  },
  {
   "cell_type": "code",
   "execution_count": 13,
   "id": "2fd3369b-2163-443b-802e-8225dbc89bcd",
   "metadata": {},
   "outputs": [
    {
     "name": "stdout",
     "output_type": "stream",
     "text": [
      "(6, 11)\n",
      "<class 'pandas.core.frame.DataFrame'>\n",
      "RangeIndex: 6 entries, 0 to 5\n",
      "Data columns (total 11 columns):\n",
      " #   Column  Non-Null Count  Dtype  \n",
      "---  ------  --------------  -----  \n",
      " 0   0       6 non-null      float64\n",
      " 1   1       6 non-null      float64\n",
      " 2   2       6 non-null      float64\n",
      " 3   3       6 non-null      float64\n",
      " 4   4       6 non-null      float64\n",
      " 5   5       6 non-null      float64\n",
      " 6   6       6 non-null      float64\n",
      " 7   7       6 non-null      float64\n",
      " 8   8       6 non-null      float64\n",
      " 9   9       6 non-null      float64\n",
      " 10  10      6 non-null      float64\n",
      "dtypes: float64(11)\n",
      "memory usage: 656.0 bytes\n"
     ]
    },
    {
     "data": {
      "text/html": [
       "<div>\n",
       "<style scoped>\n",
       "    .dataframe tbody tr th:only-of-type {\n",
       "        vertical-align: middle;\n",
       "    }\n",
       "\n",
       "    .dataframe tbody tr th {\n",
       "        vertical-align: top;\n",
       "    }\n",
       "\n",
       "    .dataframe thead th {\n",
       "        text-align: right;\n",
       "    }\n",
       "</style>\n",
       "<table border=\"1\" class=\"dataframe\">\n",
       "  <thead>\n",
       "    <tr style=\"text-align: right;\">\n",
       "      <th></th>\n",
       "      <th>0</th>\n",
       "      <th>1</th>\n",
       "      <th>2</th>\n",
       "      <th>3</th>\n",
       "      <th>4</th>\n",
       "      <th>5</th>\n",
       "      <th>6</th>\n",
       "      <th>7</th>\n",
       "      <th>8</th>\n",
       "      <th>9</th>\n",
       "      <th>10</th>\n",
       "    </tr>\n",
       "  </thead>\n",
       "  <tbody>\n",
       "    <tr>\n",
       "      <th>0</th>\n",
       "      <td>-0.356766</td>\n",
       "      <td>-0.286283</td>\n",
       "      <td>-0.368809</td>\n",
       "      <td>-0.335599</td>\n",
       "      <td>-0.239838</td>\n",
       "      <td>-0.253118</td>\n",
       "      <td>-0.227491</td>\n",
       "      <td>-0.035732</td>\n",
       "      <td>-0.449461</td>\n",
       "      <td>-0.370897</td>\n",
       "      <td>-0.167077</td>\n",
       "    </tr>\n",
       "    <tr>\n",
       "      <th>1</th>\n",
       "      <td>-0.353079</td>\n",
       "      <td>0.191457</td>\n",
       "      <td>0.196809</td>\n",
       "      <td>-0.112244</td>\n",
       "      <td>-0.221217</td>\n",
       "      <td>0.272733</td>\n",
       "      <td>-0.080743</td>\n",
       "      <td>-0.777150</td>\n",
       "      <td>-0.046692</td>\n",
       "      <td>0.225530</td>\n",
       "      <td>0.022370</td>\n",
       "    </tr>\n",
       "    <tr>\n",
       "      <th>2</th>\n",
       "      <td>0.392084</td>\n",
       "      <td>-0.356882</td>\n",
       "      <td>-0.393527</td>\n",
       "      <td>0.230586</td>\n",
       "      <td>0.322037</td>\n",
       "      <td>0.107269</td>\n",
       "      <td>0.045918</td>\n",
       "      <td>-0.547924</td>\n",
       "      <td>0.101838</td>\n",
       "      <td>-0.286667</td>\n",
       "      <td>-0.027922</td>\n",
       "    </tr>\n",
       "    <tr>\n",
       "      <th>3</th>\n",
       "      <td>-0.109102</td>\n",
       "      <td>0.047229</td>\n",
       "      <td>0.168450</td>\n",
       "      <td>-0.167492</td>\n",
       "      <td>0.274165</td>\n",
       "      <td>-0.783459</td>\n",
       "      <td>-0.119882</td>\n",
       "      <td>-0.233205</td>\n",
       "      <td>0.413246</td>\n",
       "      <td>0.016678</td>\n",
       "      <td>-0.025610</td>\n",
       "    </tr>\n",
       "    <tr>\n",
       "      <th>4</th>\n",
       "      <td>0.232103</td>\n",
       "      <td>-0.104366</td>\n",
       "      <td>-0.010844</td>\n",
       "      <td>0.415734</td>\n",
       "      <td>-0.666090</td>\n",
       "      <td>-0.417246</td>\n",
       "      <td>0.304009</td>\n",
       "      <td>-0.130991</td>\n",
       "      <td>-0.096346</td>\n",
       "      <td>0.158991</td>\n",
       "      <td>-0.019314</td>\n",
       "    </tr>\n",
       "    <tr>\n",
       "      <th>5</th>\n",
       "      <td>0.057950</td>\n",
       "      <td>0.012770</td>\n",
       "      <td>-0.635385</td>\n",
       "      <td>-0.187190</td>\n",
       "      <td>0.034372</td>\n",
       "      <td>-0.037182</td>\n",
       "      <td>-0.125713</td>\n",
       "      <td>0.041805</td>\n",
       "      <td>0.062149</td>\n",
       "      <td>0.730456</td>\n",
       "      <td>0.013417</td>\n",
       "    </tr>\n",
       "  </tbody>\n",
       "</table>\n",
       "</div>"
      ],
      "text/plain": [
       "         0         1         2         3         4         5         6   \\\n",
       "0 -0.356766 -0.286283 -0.368809 -0.335599 -0.239838 -0.253118 -0.227491   \n",
       "1 -0.353079  0.191457  0.196809 -0.112244 -0.221217  0.272733 -0.080743   \n",
       "2  0.392084 -0.356882 -0.393527  0.230586  0.322037  0.107269  0.045918   \n",
       "3 -0.109102  0.047229  0.168450 -0.167492  0.274165 -0.783459 -0.119882   \n",
       "4  0.232103 -0.104366 -0.010844  0.415734 -0.666090 -0.417246  0.304009   \n",
       "5  0.057950  0.012770 -0.635385 -0.187190  0.034372 -0.037182 -0.125713   \n",
       "\n",
       "         7         8         9         10  \n",
       "0 -0.035732 -0.449461 -0.370897 -0.167077  \n",
       "1 -0.777150 -0.046692  0.225530  0.022370  \n",
       "2 -0.547924  0.101838 -0.286667 -0.027922  \n",
       "3 -0.233205  0.413246  0.016678 -0.025610  \n",
       "4 -0.130991 -0.096346  0.158991 -0.019314  \n",
       "5  0.041805  0.062149  0.730456  0.013417  "
      ]
     },
     "execution_count": 13,
     "metadata": {},
     "output_type": "execute_result"
    }
   ],
   "source": [
    "# From the result above, we decide the number of components is 6\n",
    "n_components = 6\n",
    "df_weight_filtered = df_weight.iloc[:n_components]\n",
    "print(df_weight_filtered.shape)\n",
    "df_weight_filtered.info()\n",
    "df_weight_filtered"
   ]
  },
  {
   "cell_type": "markdown",
   "id": "1731090a-aee2-4a3b-90fe-5ddf3b5e1c9d",
   "metadata": {},
   "source": [
    "#### Weight calculation"
   ]
  },
  {
   "cell_type": "code",
   "execution_count": 467,
   "id": "c1291f1c-ad65-4404-943d-c63fa57c6567",
   "metadata": {},
   "outputs": [],
   "source": [
    "# Set target is the first feature, which is AUD/USD\n",
    "w_y_norm = df_weight_filtered.loc[:,0]\n",
    "w_y_norm_sqr = w_y_norm**2\n",
    "w_y_norm_sqr_sum = w_y_norm_sqr.sum()\n",
    "\n",
    "# Compute weights\n",
    "w_list = []\n",
    "\n",
    "for i in range(1,df_weight_filtered.shape[1]):    \n",
    "    w = ((1 - w_y_norm_sqr_sum)**(-1)) * ((w_y_norm*df_weight_filtered.iloc[:,i]).sum())\n",
    "    w_list.append(w)"
   ]
  },
  {
   "cell_type": "code",
   "execution_count": 466,
   "id": "33ec9dd9-84a5-4b9a-9226-ec54c5729fbc",
   "metadata": {},
   "outputs": [
    {
     "name": "stdout",
     "output_type": "stream",
     "text": [
      "Normalized weights: [-0.1959519  -0.21918967  0.51710296  0.15704596  0.03295982  0.29829654\n",
      "  0.10201124  0.22357378  0.02588967  0.05826159]\n"
     ]
    }
   ],
   "source": [
    "# Normalize weights\n",
    "\n",
    "w_norm_list = [w/sum(w_list) for w in w_list]\n",
    "w_norm_arr = np.array(w_norm_list)\n",
    "print(f\"Normalized weights: {w_norm_arr}\")"
   ]
  },
  {
   "cell_type": "markdown",
   "id": "340e433f-5ab0-47ca-899b-f1fb4f907858",
   "metadata": {},
   "source": [
    "#### In-sample Replicated return"
   ]
  },
  {
   "cell_type": "code",
   "execution_count": 151,
   "id": "8fc6cf23",
   "metadata": {},
   "outputs": [
    {
     "name": "stdout",
     "output_type": "stream",
     "text": [
      "Mean squared error: 0.00017\n"
     ]
    }
   ],
   "source": [
    "# For AUD\n",
    "x_true = df_g10.iloc[:,1:].head(len(train_ret))\n",
    "y_repl = np.matmul(x_true.values,w_norm_arr)\n",
    "df_y_repl = pd.DataFrame(data=y_repl, columns=['aud'], index=df_g10.index[:len(train_ret)])\n",
    "\n",
    "y_true = df_g10.iloc[:len(train_ret),0]\n",
    "df_y_true = pd.DataFrame(data=df_g10.iloc[:len(train_ret),0], columns=['aud'])\n",
    "\n",
    "print(f\"Mean squared error: {round(mean_squared_error(df_y_true, df_y_repl),5)}\")"
   ]
  },
  {
   "cell_type": "code",
   "execution_count": 231,
   "id": "2cccb303-1d57-41ef-8ccc-5074f245a3e2",
   "metadata": {},
   "outputs": [
    {
     "data": {
      "text/plain": [
       "<matplotlib.legend.Legend at 0x204937692d0>"
      ]
     },
     "execution_count": 231,
     "metadata": {},
     "output_type": "execute_result"
    },
    {
     "data": {
      "image/png": "[encoded data removed]",
      "text/plain": [
       "<Figure size 1500x600 with 1 Axes>"
      ]
     },
     "metadata": {},
     "output_type": "display_data"
    }
   ],
   "source": [
    "# Compute replicated value and true value for illustration\n",
    "\n",
    "repl_val = [1]\n",
    "true_val = [1]\n",
    "\n",
    "for i in range(0,y_repl.shape[0]):\n",
    "    val = repl_val[i] * (1+y_repl[i])\n",
    "    repl_val.append(val)\n",
    "\n",
    "for i in range(0,y_true.shape[0]):\n",
    "    val = true_val[i] * (1+y_true[i])\n",
    "    true_val.append(val)\n",
    "    \n",
    "fig, ax = plt.subplots(figsize=(15,6))\n",
    "plt.plot(true_val, label='True value');\n",
    "plt.plot(repl_val, label='Replicated value');\n",
    "plt.legend()\n"
   ]
  },
  {
   "cell_type": "markdown",
   "id": "9cde9180-b0e5-4987-905e-8264a3b3545e",
   "metadata": {},
   "source": [
    "#### Out-sample Replicated return"
   ]
  },
  {
   "cell_type": "code",
   "execution_count": 232,
   "id": "fcc58f19-9c57-4504-b52e-c807d4609cad",
   "metadata": {},
   "outputs": [],
   "source": [
    "# For AUD\n",
    "out_sample = 10\n",
    "x_true_out = df_g10.iloc[len(train_ret):,1:].head(out_sample)\n",
    "y_repl_out = np.matmul(x_true_out.values,w_norm_arr)\n",
    "df_y_repl_out = pd.DataFrame(data=y_repl_out, columns=['aud'], index=df_g10.index[len(train_ret):len(train_ret)+out_sample])"
   ]
  },
  {
   "cell_type": "code",
   "execution_count": 450,
   "id": "db7640df-60ab-4ffd-b2a6-9998726d7d90",
   "metadata": {},
   "outputs": [
    {
     "name": "stdout",
     "output_type": "stream",
     "text": [
      "Mean squared error: 4.022056143752985e-05\n"
     ]
    }
   ],
   "source": [
    "y_true_out = df_g10.iloc[len(train_ret):,0].head(out_sample)\n",
    "df_y_true_out = pd.DataFrame(data=y_true_out, columns=['aud'])\n",
    "print(f\"Mean squared error: {mean_squared_error(df_y_true_out, df_y_repl_out)}\")"
   ]
  },
  {
   "cell_type": "code",
   "execution_count": 451,
   "id": "a2ba61a0-2147-4a0b-beb0-725e52198a25",
   "metadata": {},
   "outputs": [
    {
     "data": {
      "image/png": "[encoded data removed]",
      "text/plain": [
       "<Figure size 1500x600 with 1 Axes>"
      ]
     },
     "metadata": {},
     "output_type": "display_data"
    }
   ],
   "source": [
    "# Compute replicated value and true value for illustration - OUT OF SAMPLE\n",
    "\n",
    "repl_val_out = [1]\n",
    "true_val_out = [1]\n",
    "\n",
    "for i in range(0,y_repl_out.shape[0]):\n",
    "    val = repl_val_out[i] * (1+y_repl_out[i])\n",
    "    repl_val_out.append(val)\n",
    "\n",
    "for i in range(0,y_true_out.shape[0]):\n",
    "    val = true_val_out[i] * (1+y_true_out[i])\n",
    "    true_val_out.append(val)\n",
    "    \n",
    "fig, ax = plt.subplots(figsize=(15,6))\n",
    "plt.plot(true_val_out, label='True value');\n",
    "plt.plot(repl_val_out, label='Replicated value');\n",
    "plt.legend();"
   ]
  }
 ],
 "metadata": {
  "kernelspec": {
   "display_name": "Python 3 (ipykernel)",
   "language": "python",
   "name": "python3"
  },
  "language_info": {
   "codemirror_mode": {
    "name": "ipython",
    "version": 3
   },
   "file_extension": ".py",
   "mimetype": "text/x-python",
   "name": "python",
   "nbconvert_exporter": "python",
   "pygments_lexer": "ipython3",
   "version": "3.10.9"
  },
  "toc-autonumbering": true
 },
 "nbformat": 4,
 "nbformat_minor": 5
}
