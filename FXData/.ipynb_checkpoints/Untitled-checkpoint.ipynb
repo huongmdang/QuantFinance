{
 "cells": [
  {
   "cell_type": "markdown",
   "id": "559e95d9-29cb-4f27-8336-660cdcc796ac",
   "metadata": {},
   "source": [
    "## Welcome to my Quant Finance repo!\n",
    "\n",
    "Thanks for visiting my repository! Throughout Quant Finance projects, I hope to provide you some insights regarding:\n",
    "- How the eigenvalues contributes to explain the volatility of currency pairs.\n",
    "- The practice of principal component analysis (PCA) in replication strategy. \n",
    "\n",
    "All application is implemented in the foreign exchange market. \n",
    "\n",
    "Three sections comprise the repository: [the first](https://github.com/huongmdang/QuantFinance/tree/main/FXData) deals with data, [the second](https://github.com/huongmdang/QuantFinance/tree/main/Eigenvalues) with eigenvalues and [the third](https://github.com/huongmdang/QuantFinance/tree/main/PCA) with PCA. \n",
    "\n",
    "Let's get going!\n",
    "\n",
    "#### Contact:\n",
    "Any questions please feel free to reach out to me at huong.dang.m@gmail.com or via [Linkedin](https://www.linkedin.com/in/huong-dang-bb589521/). \n",
    "\n",
    "Thanks for your time!\n"
   ]
  },
  {
   "cell_type": "code",
   "execution_count": null,
   "id": "7bace47d-b3d0-48eb-ba23-6660700473e3",
   "metadata": {},
   "outputs": [],
   "source": []
  }
 ],
 "metadata": {
  "kernelspec": {
   "display_name": "Python 3 (ipykernel)",
   "language": "python",
   "name": "python3"
  },
  "language_info": {
   "codemirror_mode": {
    "name": "ipython",
    "version": 3
   },
   "file_extension": ".py",
   "mimetype": "text/x-python",
   "name": "python",
   "nbconvert_exporter": "python",
   "pygments_lexer": "ipython3",
   "version": "3.10.9"
  }
 },
 "nbformat": 4,
 "nbformat_minor": 5
}
