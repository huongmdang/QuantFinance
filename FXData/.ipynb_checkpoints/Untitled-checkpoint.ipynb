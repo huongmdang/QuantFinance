{
 "cells": [
  {
   "cell_type": "markdown",
   "id": "850f7388-b22b-4cc8-b5e2-65b752c00f99",
   "metadata": {},
   "source": [
    "Hemera, 1 Lohas Park\n",
    "(+852)59616369\n",
    "huong.dang.m@gmail.com\n",
    "\n",
    "March 14th, 2024\n",
    "\n",
    "Human Resources Department\n",
    "\n",
    "\n",
    "Dear Human Resources Manager and Hiring Manager,\n",
    "\n",
    "First of all, please allow me to say thank you for taking your time to read this cover letter. I am currently looking for a Data Analyst role at a Junior level. Hence your recruiment caught my attention \n",
    "\n",
    "and I give myself a chance to apply for this position.\n",
    "and I believe to be a fitted candidate to this position. \n",
    "\n",
    "My nam is Huong DANG, a Vietnamese. I have been living in Hong Kong since 2016. \n",
    "As you can see in my resume, that I graduated from Finance and Banking major, with the master of Quantitative Finance. I fortunately had a chance to work through different roles from a Credit Analyst and a Trader in Ho Chi Minh City, Vietnam, to a Sales Associate in the foreign currency market in Hong Kong. Being a sales was the first job I had taken here for 5 years, that allowed me to immerse myself in the new country and the new culture. Those such years are long enough for me to save and look back to my favorite which is the analysis. \n",
    "\n",
    "I spent several months to dig into the programming language Python and the database management system SQL which I believe a key for the data analysis. Simultaneously taking the \"Applied Data Science Lab\" course offered by WorldQuant University which consists of 8 virtual projects covering various subjects. Each project provides the knowledge and the practice right on the virtual Python notebook, from the data manipulation to statistical analysis. Then more advanced skill is applied, specifically the prediction model via machine learning tools such as Linear/Logistic Regression or Decision Tree, as well as ideas in times series forecast through models AR and ARMA. This course helps inspire me going forward with curiosity about how benefit it brings to decision-making. With some friend's supervision, I was able to build my own projects and published two articles on medium site. If you are intested in them, please feel free to see details on my github. The first project, in brief, is about examining the relation between eigenvalues and currency pair's volatility, its density function and correlation among G10 currency group. The second one is to apply Principal Component Analysis in replication strategy. "
   ]
  }
 ],
 "metadata": {
  "kernelspec": {
   "display_name": "Python 3 (ipykernel)",
   "language": "python",
   "name": "python3"
  },
  "language_info": {
   "codemirror_mode": {
    "name": "ipython",
    "version": 3
   },
   "file_extension": ".py",
   "mimetype": "text/x-python",
   "name": "python",
   "nbconvert_exporter": "python",
   "pygments_lexer": "ipython3",
   "version": "3.10.9"
  }
 },
 "nbformat": 4,
 "nbformat_minor": 5
}
