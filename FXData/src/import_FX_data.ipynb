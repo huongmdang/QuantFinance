{
 "cells": [
  {
   "cell_type": "code",
   "execution_count": 8,
   "id": "1f051b65-e544-41e6-be61-c550f9d9face",
   "metadata": {},
   "outputs": [
    {
     "name": "stdout",
     "output_type": "stream",
     "text": [
      "The autoreload extension is already loaded. To reload it, use:\n",
      "  %reload_ext autoreload\n"
     ]
    }
   ],
   "source": [
    "%load_ext autoreload\n",
    "%autoreload 2"
   ]
  },
  {
   "cell_type": "code",
   "execution_count": 9,
   "id": "cbf35979-0842-4215-8d63-ef0cdffc4ab6",
   "metadata": {},
   "outputs": [],
   "source": [
    "# Import data to MySQL\n",
    "\n",
    "import data_FX\n",
    "importlib.reload(data_FX)\n",
    "from data_FX import SQLconnect, SQLRepository, DataAnalysis, OptimizeDensity"
   ]
  },
  {
   "cell_type": "code",
   "execution_count": 10,
   "id": "f5f8e17b-ffa1-48ec-9308-6f4d779237e4",
   "metadata": {},
   "outputs": [
    {
     "name": "stdout",
     "output_type": "stream",
     "text": [
      "connection is ready\n"
     ]
    }
   ],
   "source": [
    "# Initiate the connection with MySQL\n",
    "\n",
    "sqlconn = SQLconnect()\n",
    "connection = sqlconn.get_sql_connection(dbname=settings.dbname)\n",
    "cursor = connection.cursor()\n",
    "repo = SQLRepository(connection=connection)"
   ]
  },
  {
   "cell_type": "code",
   "execution_count": null,
   "id": "3df797f0-c819-46a8-be11-1e562fbed60e",
   "metadata": {},
   "outputs": [
    {
     "data": {
      "text/plain": [
       "\" Import data to MySQL\\nData source: https://github.com/philipperemy/FX-1-Minute-Data\\nOnce downloaded, save data to your computer and paste the data path to the following section\\nFor example: my folder name is 'Datasets/FX-1-Minute-Data/', where:\\n    'FX-1-Minute-Data' contains pairs as subfolders.\\n    'Datasets' locates in as same directory as our module 'data_FX'.\\n\""
      ]
     },
     "execution_count": 11,
     "metadata": {},
     "output_type": "execute_result"
    }
   ],
   "source": [
    "\"\"\" Import data to MySQL - ONLY RUN THIS CELL ONCE\n",
    "For example: my folder name is 'Datasets/FX-1-Minute-Data/', where:\n",
    "    'FX-1-Minute-Data' contains pairs as subfolders.\n",
    "    'Datasets' locates in as same directory as a module 'data_FX'.\n",
    "\"\"\"\n",
    "\n",
    "# folder_name: str = 'Datasets\\\\FX-1-Minute-Data'\n",
    "# n_inserted = repo.import_data(data_path)\n",
    "# print(f\"{n_inserted} observations recorded in MySQL\")"
   ]
  }
 ],
 "metadata": {
  "kernelspec": {
   "display_name": "Python 3 (ipykernel)",
   "language": "python",
   "name": "python3"
  },
  "language_info": {
   "codemirror_mode": {
    "name": "ipython",
    "version": 3
   },
   "file_extension": ".py",
   "mimetype": "text/x-python",
   "name": "python",
   "nbconvert_exporter": "python",
   "pygments_lexer": "ipython3",
   "version": "3.10.9"
  }
 },
 "nbformat": 4,
 "nbformat_minor": 5
}
